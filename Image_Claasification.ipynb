{
  "nbformat": 4,
  "nbformat_minor": 0,
  "metadata": {
    "colab": {
      "name": "Image_Claasification.ipynb",
      "provenance": [],
      "include_colab_link": true
    },
    "kernelspec": {
      "name": "python3",
      "display_name": "Python 3"
    }
  },
  "cells": [
    {
      "cell_type": "markdown",
      "metadata": {
        "id": "view-in-github",
        "colab_type": "text"
      },
      "source": [
        "<a href=\"https://colab.research.google.com/github/sy178sy/sy178sy.github.io/blob/master/Image_Claasification.ipynb\" target=\"_parent\"><img src=\"https://colab.research.google.com/assets/colab-badge.svg\" alt=\"Open In Colab\"/></a>"
      ]
    },
    {
      "cell_type": "code",
      "metadata": {
        "id": "GEJGe4x5r44G",
        "colab_type": "code",
        "colab": {}
      },
      "source": [
        "import numpy as np"
      ],
      "execution_count": 0,
      "outputs": []
    },
    {
      "cell_type": "code",
      "metadata": {
        "id": "jmTpRcxEsFl2",
        "colab_type": "code",
        "colab": {}
      },
      "source": [
        "import matplotlib.pyplot as plt"
      ],
      "execution_count": 0,
      "outputs": []
    },
    {
      "cell_type": "code",
      "metadata": {
        "id": "9e7qKJo8sLM7",
        "colab_type": "code",
        "colab": {}
      },
      "source": [
        "from keras.datasets import mnist"
      ],
      "execution_count": 0,
      "outputs": []
    },
    {
      "cell_type": "code",
      "metadata": {
        "id": "W2Iib8wasQEA",
        "colab_type": "code",
        "colab": {}
      },
      "source": [
        "(trainData, trainLabels),(testData, testLabels) = mnist.load_data()"
      ],
      "execution_count": 0,
      "outputs": []
    },
    {
      "cell_type": "code",
      "metadata": {
        "id": "yu5BP45KtHaM",
        "colab_type": "code",
        "colab": {}
      },
      "source": [
        "X_train,Y_train = trainData[0:1000],trainLabels[0:1000]\n",
        "X_test,Y_test = testData[0:100],testLabels[0:100]"
      ],
      "execution_count": 0,
      "outputs": []
    },
    {
      "cell_type": "code",
      "metadata": {
        "id": "2sGnCzNrtvIj",
        "colab_type": "code",
        "colab": {}
      },
      "source": [
        "import pandas as pd\n",
        "import math\n",
        "from operator import itemgetter"
      ],
      "execution_count": 0,
      "outputs": []
    },
    {
      "cell_type": "code",
      "metadata": {
        "id": "FnMPd-oQxoQQ",
        "colab_type": "code",
        "colab": {}
      },
      "source": [
        "def KNN(X_Train, Y_Train, X_Test, k):\n",
        "  distances = []\n",
        "  b = np.reshape(X_Test,28*28,1)\n",
        "  for x in range(len(X_Train)):\n",
        "    a = np.reshape(X_Train[x],28*28,1)\n",
        "    dist = np.linalg.norm(a-b)\n",
        "    distances.append((Y_Train[x],dist))\n",
        "    distances.sort(key=itemgetter(1))\n",
        "  neighbors = []\n",
        "  for x in range(k):\n",
        "    neighbors.append(distances[x][0])\n",
        "\n",
        "  freq = [0,0,0,0,0,0,0,0,0,0]\n",
        "  maximum = 0;\n",
        "  m = 0\n",
        "  for x in range(k):\n",
        "    if neighbors[x]==0:\n",
        "      freq[0]+=1\n",
        "    elif neighbors[x]==1:\n",
        "      freq[1]+=1\n",
        "    elif neighbors[x]==2:\n",
        "      freq[2]+=1\n",
        "    elif neighbors[x]==3:\n",
        "      freq[3]+=1\n",
        "    elif neighbors[x]==4:\n",
        "      freq[4]+=1\n",
        "    elif neighbors[x]==5:\n",
        "      freq[5]+=1\n",
        "    elif neighbors[x]==6:\n",
        "      freq[6]+=1\n",
        "    elif neighbors[x]==7:\n",
        "      freq[7]+=1\n",
        "    elif neighbors[x]==8:\n",
        "      freq[8]+=1\n",
        "    elif neighbors[x]==9:\n",
        "      freq[9]+=1\n",
        "  for i in range(k):\n",
        "    if maximum<freq[distances[i][0]]:\n",
        "      maximum=freq[distances[i][0]]\n",
        "      m=distances[i][0]\n",
        "  return m"
      ],
      "execution_count": 0,
      "outputs": []
    },
    {
      "cell_type": "code",
      "metadata": {
        "id": "ZK-hVhOO0Dku",
        "colab_type": "code",
        "colab": {}
      },
      "source": [
        "Y_pred1=[]\n",
        "Y_pred3=[]\n",
        "Y_pred5=[]\n",
        "\n",
        "for i in range(len(X_test)):\n",
        "\tY_pred1.append(KNN(X_train,Y_train,X_test[i],10))\n",
        "\tY_pred3.append(KNN(X_train,Y_train,X_test[i],30))\n",
        "\tY_pred5.append(KNN(X_train,Y_train,X_test[i],100))"
      ],
      "execution_count": 0,
      "outputs": []
    },
    {
      "cell_type": "code",
      "metadata": {
        "id": "yOfBm9Fq5sSh",
        "colab_type": "code",
        "colab": {}
      },
      "source": [
        "Acc=[]\n",
        "count = 0\n",
        "for i in range(len(Y_test)):\n",
        "    if Y_test[i]==Y_pred1[i]:\n",
        "        count+=1\n",
        "Acc.append(count/len(Y_test))\n",
        "count = 0\n",
        "for i in range(len(Y_test)):\n",
        "    if Y_test[i]==Y_pred3[i]:\n",
        "        count+=1\n",
        "Acc.append(count/len(Y_test))\n",
        "count = 0\n",
        "for i in range(len(Y_test)):\n",
        "    if Y_test[i]==Y_pred5[i]:\n",
        "        count+=1\n",
        "Acc.append(count/len(Y_test))"
      ],
      "execution_count": 0,
      "outputs": []
    },
    {
      "cell_type": "code",
      "metadata": {
        "id": "PLTACokG9KH0",
        "colab_type": "code",
        "outputId": "9fd898e4-d4dd-48e3-e44f-645d6b4c5675",
        "colab": {
          "base_uri": "https://localhost:8080/",
          "height": 34
        }
      },
      "source": [
        "Acc"
      ],
      "execution_count": 0,
      "outputs": [
        {
          "output_type": "execute_result",
          "data": {
            "text/plain": [
              "[0.34, 0.23, 0.22]"
            ]
          },
          "metadata": {
            "tags": []
          },
          "execution_count": 52
        }
      ]
    },
    {
      "cell_type": "code",
      "metadata": {
        "id": "OjeVJha_9Lfy",
        "colab_type": "code",
        "colab": {}
      },
      "source": [
        "Y_pred1\n"
      ],
      "execution_count": 0,
      "outputs": []
    },
    {
      "cell_type": "code",
      "metadata": {
        "id": "pBSVRqxk_xgF",
        "colab_type": "code",
        "colab": {}
      },
      "source": [
        "Y_test"
      ],
      "execution_count": 0,
      "outputs": []
    },
    {
      "cell_type": "code",
      "metadata": {
        "id": "uVTgS-CQ_-dS",
        "colab_type": "code",
        "colab": {}
      },
      "source": [
        "Y_pred5"
      ],
      "execution_count": 0,
      "outputs": []
    },
    {
      "cell_type": "code",
      "metadata": {
        "id": "8yllWMBWAGlM",
        "colab_type": "code",
        "colab": {}
      },
      "source": [
        "Y_pred3"
      ],
      "execution_count": 0,
      "outputs": []
    },
    {
      "cell_type": "code",
      "metadata": {
        "id": "EbQVS3WmBOy7",
        "colab_type": "code",
        "colab": {}
      },
      "source": [
        ""
      ],
      "execution_count": 0,
      "outputs": []
    }
  ]
}