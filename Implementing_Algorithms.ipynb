{
  "nbformat": 4,
  "nbformat_minor": 0,
  "metadata": {
    "colab": {
      "name": "Implementing Algorithms",
      "provenance": [],
      "collapsed_sections": [],
      "include_colab_link": true
    },
    "kernelspec": {
      "name": "python3",
      "display_name": "Python 3"
    }
  },
  "cells": [
    {
      "cell_type": "markdown",
      "metadata": {
        "id": "view-in-github",
        "colab_type": "text"
      },
      "source": [
        "<a href=\"https://colab.research.google.com/github/sy178sy/sy178sy.github.io/blob/master/Implementing_Algorithms.ipynb\" target=\"_parent\"><img src=\"https://colab.research.google.com/assets/colab-badge.svg\" alt=\"Open In Colab\"/></a>"
      ]
    },
    {
      "cell_type": "code",
      "metadata": {
        "id": "VJVJbttTvzn-",
        "colab_type": "code",
        "colab": {}
      },
      "source": [
        "import numpy as np\n",
        "\n",
        "#Generate 5 dimensional dataset from three different gaussain Distributions for three different classes\n",
        "mean1 = [2,8,4,3,5]\n",
        "mean2 = [2,8,4,9,5]\n",
        "mean3 = [8,8,4,9,5]\n",
        "\n",
        "cov = [[2, 1, 1, 1, 1], \n",
        "       [1, 2, 0, 1, 0],\n",
        "       [0, 0, 2, 0, 0], \n",
        "       [1, 1, 0, 2, 0],\n",
        "       [0, 0, 0, 0, 2]] \n",
        "\n",
        "\n",
        "class1_sample = np.random.multivariate_normal(mean1, cov, size=100)\n",
        "assert class1_sample.shape == (100,5), \"The matrix has not the dimensions 5x100\"\n",
        "\n",
        "class2_sample = np.random.multivariate_normal(mean2, cov, size=100)\n",
        "assert class2_sample.shape == (100,5), \"The matrix has not the dimensions 5x100\"\n",
        "\n",
        "class3_sample = np.random.multivariate_normal(mean3, cov, size=100)\n",
        "assert class3_sample.shape == (100,5), \"The matrix has not the dimensions 5x100\""
      ],
      "execution_count": 0,
      "outputs": []
    },
    {
      "cell_type": "code",
      "metadata": {
        "id": "Sq7fPoaMwsp4",
        "colab_type": "code",
        "colab": {}
      },
      "source": [
        "#Plot the data for any three dimension (Optional)\n",
        "%pylab inline\n",
        "from matplotlib import pyplot as plt\n",
        "from mpl_toolkits.mplot3d import Axes3D\n",
        "from mpl_toolkits.mplot3d import proj3d\n",
        "\n",
        "fig = plt.figure(figsize=(8,8))\n",
        "ax = fig.add_subplot(111, projection='3d')\n",
        "plt.rcParams['legend.fontsize'] = 10   \n",
        "ax.plot(class1_sample[0,:], class1_sample[1,:], class1_sample[2,:], 'o', markersize=8, color='blue', alpha=0.5, label='class1')\n",
        "ax.plot(class2_sample[0,:], class2_sample[1,:], class2_sample[2,:], '^', markersize=8, alpha=0.5, color='red', label='class2')\n",
        "ax.plot(class3_sample[0,:], class3_sample[1,:], class3_sample[2,:], '^', markersize=8, alpha=0.5, color='red', label='class3')\n",
        "\n",
        "plt.title('Samples for class 1, class2 and class 3')\n",
        "ax.legend(loc='upper right')\n",
        "\n",
        "plt.show()"
      ],
      "execution_count": 0,
      "outputs": []
    },
    {
      "cell_type": "code",
      "metadata": {
        "id": "2Zc0ps_ZZ-M9",
        "colab_type": "code",
        "colab": {}
      },
      "source": [
        "import pandas as pd\n",
        "\n",
        "df1 = pd.DataFrame(data=class1_sample, index=np.arange(1, 101),columns=np.arange(1, 6))\n",
        "df1['class'] = 1\n",
        "\n",
        "df2 = pd.DataFrame(data=class2_sample, index=np.arange(1, 101),columns=np.arange(1, 6))\n",
        "df2['class'] = 2\n",
        "\n",
        "df3 = pd.DataFrame(data=class3_sample, index=np.arange(1, 101),columns=np.arange(1, 6))\n",
        "df3['class'] = 3"
      ],
      "execution_count": 0,
      "outputs": []
    },
    {
      "cell_type": "code",
      "metadata": {
        "id": "3vOyjAQOaC96",
        "colab_type": "code",
        "colab": {}
      },
      "source": [
        "df_final = df1.append([df2, df3], ignore_index=True)"
      ],
      "execution_count": 0,
      "outputs": []
    },
    {
      "cell_type": "code",
      "metadata": {
        "id": "JXSSypuaaC5R",
        "colab_type": "code",
        "colab": {}
      },
      "source": [
        "X_train = df_final.drop('class', 1)\n",
        "y_train = df_final['class']"
      ],
      "execution_count": 0,
      "outputs": []
    },
    {
      "cell_type": "code",
      "metadata": {
        "id": "yXlTKCTlaC08",
        "colab_type": "code",
        "colab": {}
      },
      "source": [
        "mean1 = [2,8,4,3,5]\n",
        "mean2 = [2,8,4,9,5]\n",
        "mean3 = [8,8,4,9,5]\n",
        "\n",
        "cov = [[2, 1, 1, 1, 1], \n",
        "       [1, 2, 0, 1, 0],\n",
        "       [0, 0, 2, 0, 0], \n",
        "       [1, 1, 0, 2, 0],\n",
        "       [0, 0, 0, 0, 2]] \n",
        "\n",
        "class1_sample_test = np.random.multivariate_normal(mean1, cov, size=20)\n",
        "assert class1_sample_test.shape == (20,5), \"The matrix has not the dimensions 5x20\"\n",
        "\n",
        "class2_sample_test = np.random.multivariate_normal(mean2, cov, size=20)\n",
        "assert class2_sample_test.shape == (20,5), \"The matrix has not the dimensions 5x20\"\n",
        "\n",
        "class3_sample_test = np.random.multivariate_normal(mean3, cov, size=20)\n",
        "assert class3_sample_test.shape == (20,5), \"The matrix has not the dimensions 5x20\""
      ],
      "execution_count": 0,
      "outputs": []
    },
    {
      "cell_type": "code",
      "metadata": {
        "id": "6Lv6-sEEaCpg",
        "colab_type": "code",
        "colab": {}
      },
      "source": [
        "df1_test = pd.DataFrame(data=class1_sample_test, index=np.arange(1, 21),columns=np.arange(1, 6))\n",
        "df1_test['class'] = 1\n",
        "\n",
        "df2_test = pd.DataFrame(data=class2_sample_test, index=np.arange(1, 21),columns=np.arange(1, 6))\n",
        "df2_test['class'] = 2\n",
        "\n",
        "df3_test = pd.DataFrame(data=class3_sample_test, index=np.arange(1, 21),columns=np.arange(1, 6))\n",
        "df3_test['class'] = 3"
      ],
      "execution_count": 0,
      "outputs": []
    },
    {
      "cell_type": "code",
      "metadata": {
        "id": "i14hyMbDamp-",
        "colab_type": "code",
        "colab": {}
      },
      "source": [
        "df_final_test = df1_test.append([df2_test, df3_test], ignore_index=True)"
      ],
      "execution_count": 0,
      "outputs": []
    },
    {
      "cell_type": "code",
      "metadata": {
        "id": "pLAS3fLaamn5",
        "colab_type": "code",
        "colab": {}
      },
      "source": [
        "X_test = df_final_test.drop('class', 1)\n",
        "y_test = df_final_test['class']"
      ],
      "execution_count": 0,
      "outputs": []
    },
    {
      "cell_type": "markdown",
      "metadata": {
        "id": "bEoRZy511-p6",
        "colab_type": "text"
      },
      "source": [
        "#Decision Tree"
      ]
    },
    {
      "cell_type": "code",
      "metadata": {
        "id": "DlM74i5S2DUJ",
        "colab_type": "code",
        "colab": {}
      },
      "source": [
        "#1 Classify the data using decision tree\n",
        "\n",
        "from sklearn.tree import DecisionTreeClassifier\n",
        "clf = DecisionTreeClassifier(max_depth=5)\n",
        "clf.fit(X_train, y_train)"
      ],
      "execution_count": 0,
      "outputs": []
    },
    {
      "cell_type": "code",
      "metadata": {
        "id": "ytY-OF2EazS5",
        "colab_type": "code",
        "colab": {}
      },
      "source": [
        "y_pred_dtc = clf.predict(X_test)"
      ],
      "execution_count": 0,
      "outputs": []
    },
    {
      "cell_type": "code",
      "metadata": {
        "id": "p9iygz92azAj",
        "colab_type": "code",
        "colab": {}
      },
      "source": [
        "from sklearn import metrics\n",
        "\n",
        "metrics.accuracy_score(y_test,y_pred_dtc)*100"
      ],
      "execution_count": 0,
      "outputs": []
    },
    {
      "cell_type": "markdown",
      "metadata": {
        "id": "xWEDrjmX2RQJ",
        "colab_type": "text"
      },
      "source": [
        "#KNN"
      ]
    },
    {
      "cell_type": "code",
      "metadata": {
        "id": "nx5guX132TFo",
        "colab_type": "code",
        "colab": {}
      },
      "source": [
        "#1 Classify the data using KNN\n",
        "from sklearn.neighbors import KNeighborsClassifier\n",
        "neigh = KNeighborsClassifier(n_neighbors=11, weights='distance', algorithm='brute', leaf_size=100)\n",
        "neigh.fit(X_train, y_train)"
      ],
      "execution_count": 0,
      "outputs": []
    },
    {
      "cell_type": "code",
      "metadata": {
        "id": "2uP1ZMvja9Pg",
        "colab_type": "code",
        "colab": {}
      },
      "source": [
        "y_pred = neigh.predict(X_test)"
      ],
      "execution_count": 0,
      "outputs": []
    },
    {
      "cell_type": "code",
      "metadata": {
        "id": "j-Lfp2R6a9K1",
        "colab_type": "code",
        "colab": {}
      },
      "source": [
        "from sklearn import metrics\n",
        "metrics.accuracy_score(y_test,y_pred)*100"
      ],
      "execution_count": 0,
      "outputs": []
    },
    {
      "cell_type": "markdown",
      "metadata": {
        "id": "n8RqHr4nxrYS",
        "colab_type": "text"
      },
      "source": [
        "#PCA 5D to 2D"
      ]
    },
    {
      "cell_type": "code",
      "metadata": {
        "id": "_vhW__Zcw0fF",
        "colab_type": "code",
        "colab": {}
      },
      "source": [
        "#1. Taking the whole dataset ignoring the class labels\n",
        "\n",
        "#all_samples = \n",
        "#assert all_samples.shape == (5,300), \n",
        "\n"
      ],
      "execution_count": 0,
      "outputs": []
    },
    {
      "cell_type": "code",
      "metadata": {
        "id": "dqbYcqEbxCF_",
        "colab_type": "code",
        "colab": {}
      },
      "source": [
        "#2. Computing the d-dimensional mean vector\n",
        "mean_vector = np.mean(X_train, axis=0)\n",
        "print('Mean Vector:\\n', mean_vector)"
      ],
      "execution_count": 0,
      "outputs": []
    },
    {
      "cell_type": "code",
      "metadata": {
        "id": "I6ZaLOzhxPrm",
        "colab_type": "code",
        "colab": {}
      },
      "source": [
        "#3.Computing the Covariance Matrix \n",
        "y= X_train.T\n",
        "\n",
        "cov_mat = np.cov(y)\n",
        "print('Covariance Matrix:\\n', cov_mat)"
      ],
      "execution_count": 0,
      "outputs": []
    },
    {
      "cell_type": "code",
      "metadata": {
        "id": "GT0qX0K-yQFx",
        "colab_type": "code",
        "colab": {}
      },
      "source": [
        "#4. Compute eigenvectors and corresponding eigenvalues\n",
        "from scipy import linalg as LA\n",
        "\n",
        "eig_val_cov, eig_vec_cov = LA.eig(cov_mat)\n"
      ],
      "execution_count": 0,
      "outputs": []
    },
    {
      "cell_type": "code",
      "metadata": {
        "id": "snd4Pxvobkmj",
        "colab_type": "code",
        "colab": {}
      },
      "source": [
        "eig_pairs = LA.eig(cov_mat)"
      ],
      "execution_count": 0,
      "outputs": []
    },
    {
      "cell_type": "code",
      "metadata": {
        "id": "aTSFbc_5yoj_",
        "colab_type": "code",
        "colab": {}
      },
      "source": [
        "#5 Sort the eigenvectors by decreasing eigenvalues\n",
        "\n",
        "    \n",
        "# Make a list/data frame of (eigenvalue, eigenvector) tuples\n",
        "eig_pairs = []\n",
        "\n",
        "for i in range (len(eig_val_cov)):\n",
        "    temp = (eig_val_cov[i], eig_vec_cov[i])\n",
        "    eig_pairs.append(temp)\n",
        "# Sort the (eigenvalue, eigenvector) tuples from high to low\n",
        "\n",
        "# Visually confirm that the list is correctly sorted by decreasing eigenvalues\n",
        "for i in eig_pairs:\n",
        "    print(i[0])"
      ],
      "execution_count": 0,
      "outputs": []
    },
    {
      "cell_type": "code",
      "metadata": {
        "id": "a-HJH30CcjPM",
        "colab_type": "code",
        "colab": {}
      },
      "source": [
        "matrix_w = []\n",
        "for i in range(2):\n",
        "    matrix_w.append(eig_pairs[i][1].tolist())\n",
        "\n",
        "mat_w = np.array(matrix_w)\n",
        "print(mat_w)"
      ],
      "execution_count": 0,
      "outputs": []
    },
    {
      "cell_type": "code",
      "metadata": {
        "id": "SBoUjLOpzAUR",
        "colab_type": "code",
        "colab": {}
      },
      "source": [
        "#6 Choosing 2 eigenvectors with the largest eigenvalues\n",
        "k=2\n",
        "#matrix_w = \n",
        "print('Matrix W:\\n', matrix_w)"
      ],
      "execution_count": 0,
      "outputs": []
    },
    {
      "cell_type": "code",
      "metadata": {
        "id": "cRd1bTY6zHji",
        "colab_type": "code",
        "colab": {}
      },
      "source": [
        "#7 Transforming the samples onto the new subspace\n",
        "\n",
        "transformed = np.matmul(matrix_w, (X_train.as_matrix()).T) \n",
        "#assert transformed.shape == (2,300)\n",
        "\n",
        "plt.plot(transformed[0,0:100],transformed[1,0:100], 'o', markersize=7, color='blue', alpha=0.5, label='class1')\n",
        "plt.plot(transformed[0,100:200], transformed[1,100:200], '^', markersize=7, color='red', alpha=0.5, label='class2')\n",
        "plt.plot(transformed[0,200:300], transformed[1,200:300], '*', markersize=7, color='green', alpha=0.5, label='class2')\n",
        "\n",
        "#plt.xlim([-4,4])\n",
        "#plt.ylim([-4,4])\n",
        "plt.xlabel('x_values')\n",
        "plt.ylabel('y_values')\n",
        "plt.legend()\n",
        "plt.title('Transformed samples with class labels')\n",
        "\n",
        "plt.show()"
      ],
      "execution_count": 0,
      "outputs": []
    },
    {
      "cell_type": "markdown",
      "metadata": {
        "colab_type": "text",
        "id": "JVRDXbTk2jjr"
      },
      "source": [
        "#Decision Tree"
      ]
    },
    {
      "cell_type": "code",
      "metadata": {
        "colab_type": "code",
        "id": "CB8svHhO2jjw",
        "colab": {}
      },
      "source": [
        "#1 Classify the data using decision tree\n",
        "transformed_T = transformed.T\n",
        "transformed_test= np.matmul(matrix_w, (X_test.as_matrix()).T)\n",
        "transformed_test_T= transformed_test.T\n",
        "print(transformed_test.shape)\n",
        "\n",
        "clf = DecisionTreeClassifier(max_depth=2)\n",
        "clf = clf.fit(transformed_T,y_train)\n",
        "y_pred = clf.predict(transformed_test_T)"
      ],
      "execution_count": 0,
      "outputs": []
    },
    {
      "cell_type": "code",
      "metadata": {
        "id": "9c9cqDE0dUK2",
        "colab_type": "code",
        "colab": {}
      },
      "source": [
        "metrics.accuracy_score(y_test,y_pred)*100"
      ],
      "execution_count": 0,
      "outputs": []
    },
    {
      "cell_type": "markdown",
      "metadata": {
        "colab_type": "text",
        "id": "8Lp-5cC_2jjz"
      },
      "source": [
        "#KNN"
      ]
    },
    {
      "cell_type": "code",
      "metadata": {
        "colab_type": "code",
        "id": "cOxB3T6T2jj0",
        "colab": {}
      },
      "source": [
        "#1 Classify the data using KNN\n",
        "\n",
        "k_array=range(1,10)\n",
        "\n",
        "for k in k_array:\n",
        "    KNN = KNeighborsClassifier(n_neighbors = k)\n",
        "    KNN.fit(transformed_T,y_train)\n",
        "\n",
        "    y_pred = KNN.predict(transformed_test_T)\n",
        "\n",
        "    success=0\n",
        "    fail=0\n",
        "    \n",
        "    for i in range(len(y_pred)):\n",
        "        if(y_pred[i]==y_test[i]):\n",
        "            success+=1\n",
        "        else:\n",
        "            fail+=1\n",
        "        accuracy=success*100/(success+fail)\n",
        "    print(\"Accuracy for k=\"+str(k)+\" is:\"+str(accuracy))"
      ],
      "execution_count": 0,
      "outputs": []
    },
    {
      "cell_type": "code",
      "metadata": {
        "id": "69fru6-Xdmpr",
        "colab_type": "code",
        "colab": {}
      },
      "source": [
        ""
      ],
      "execution_count": 0,
      "outputs": []
    }
  ]
}